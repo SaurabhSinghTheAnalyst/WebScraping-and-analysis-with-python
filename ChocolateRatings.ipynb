import codecademylib3_seaborn
from bs4 import BeautifulSoup
import requests
import pandas as pd
import matplotlib.pyplot as plt
import numpy as np

webpage  = requests.get("https://content.codecademy.com/courses/beautifulsoup/cacao/index.html")

soup = BeautifulSoup(webpage.content, 'html.parser')

#print(soup)

# Create a Ratings list that includes ratings of all chocolates
ratings = []

for tags in soup.select(".Rating")[1:]:
  ratings.append(float(tags.get_text()))
  
#print(ratings)

plt.hist(ratings)
plt.show()

#create  a company list that includes name of all the companies
company_tags = soup.select(".Company")
company = []
for tag in company_tags[1:]:
  company.append(tag.get_text())

#print(company)

#create  a CocoaPercentage list that includes cocoapercent of all chocolates

cocoa_percent = soup.select(".CocoaPercent")
cocoa_p = []
for p in cocoa_percent[1:]:
  cocoa_p.append(int(float(p.get_text().strip("%"))))

#print(cocoa_p)
#Create a pandas data frame with columns ratings, company, cocoaPercentage
df = {"Company" : company, "Ratings" : ratings, "CocoaPercent" : cocoa_p}
chocolate_df = pd.DataFrame.from_dict(df)

#print(chocolate_df)

#Calculate mean of ratings and show the top10 chocolates based on the ratings

mean_ratings = chocolate_df.groupby("Company").Ratings.mean()
ten_best = mean_ratings.nlargest(10)
#print(ten_best)

#Display scatter plot b/w cocoapercentage and ratings and add a line of best fit

plt.clf()
plt.scatter(chocolate_df.CocoaPercent, chocolate_df.Ratings)
z = np.polyfit(chocolate_df.CocoaPercent, chocolate_df.Ratings, 1)
line_function = np.poly1d(z)
plt.plot(chocolate_df.CocoaPercent, line_function(chocolate_df.CocoaPercent), "r--")
plt.show()


